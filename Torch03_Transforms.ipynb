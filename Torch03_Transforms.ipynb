{
 "cells": [
  {
   "cell_type": "markdown",
   "id": "a4b2b942",
   "metadata": {},
   "source": [
    "# Transforms\n",
    "Data does not come in its final processed form that is required for training machine learning algorithms. Instead of performing preprocessing on the dataset before loading, we can also use **transforms** to modify the data and make it suitable for training.\n",
    "\n",
    "All TorchVision datasets have two parameters - `transform` to modify the features and `target_transform` to modify the labels. The parameters accept callables containing the transformation logic. The [torchvision.transforms](https://pytorch.org/vision/stable/transforms.html) module offers several commonly-used transformation out of the box.\n",
    "\n",
    "The FashionMNIST features are in PIL image format, and the labels are integers. For training, we need the features as normalized tensors, and the labels as one-hot encoded tensors. To make these transformations, we use `ToTensor` and `Lambda`."
   ]
  },
  {
   "cell_type": "code",
   "execution_count": 1,
   "id": "96df12a5",
   "metadata": {},
   "outputs": [],
   "source": [
    "import torch\n",
    "from torchvision import datasets\n",
    "from torchvision.transforms import ToTensor, Lambda\n",
    "\n",
    "ds = datasets.FashionMNIST(\n",
    "    root = '../data',\n",
    "    train = True,\n",
    "    download = True,\n",
    "    transform = ToTensor(),\n",
    "    target_transform = Lambda(lambda y:torch.zeros(10, dtype=torch.float).scatter_(0, torch.tensor(y), value=1))\n",
    ")"
   ]
  },
  {
   "cell_type": "markdown",
   "id": "1078dd00",
   "metadata": {},
   "source": [
    "## ToTensor()\n",
    "[ToTensor](https://pytorch.org/vision/stable/transforms.html#torchvision.transforms.ToTensor) converts a PIL image or NumPy `ndarray` into a `FloatTensor`, and scales the image's pizel intensity values to a range \\[0.,1.\\] \n",
    "\n",
    "## Lambda Transforms\n",
    "Lambda transforms apply any user-defined lambda function. Here, we define a function to turn the integer into a one-hot encoded tensor. It first creates a zero tensor of size 10 (the number of classes in our dataset) and calls [scatter_](https://pytorch.org/docs/stable/generated/torch.Tensor.scatter_.html) which assigns a `value=1` on the index as given by the label y."
   ]
  },
  {
   "cell_type": "code",
   "execution_count": 2,
   "id": "1d454ded",
   "metadata": {},
   "outputs": [],
   "source": [
    "target_transform = Lambda(lambda y: torch.zeros(\n",
    "    10, dtype=torch.float).scatter_(dim=0, index=torch.tensor(y), value=1))"
   ]
  },
  {
   "cell_type": "markdown",
   "id": "7b5c611a",
   "metadata": {},
   "source": [
    "## Lambda functions (Not part of PyTorch)\n",
    "Lambda functions are small anonymous functions, check [here](https://www.w3schools.com/python/python_lambda.asp) for more information on Lambda functions. It can take any number of arguments but can only have expression.\n",
    "\n",
    "Syntax for lambda functions goes:\n",
    "\n",
    "lambda _arguments_ : _expression_\n",
    "\n",
    "The expression is executed and the result is returned:"
   ]
  },
  {
   "cell_type": "code",
   "execution_count": 3,
   "id": "a3adf738",
   "metadata": {},
   "outputs": [
    {
     "name": "stdout",
     "output_type": "stream",
     "text": [
      "15\n",
      "4\n",
      "6\n"
     ]
    }
   ],
   "source": [
    "x = lambda a:a+10\n",
    "print (x(5))\n",
    "\n",
    "y = lambda a, b: a*b\n",
    "print (y(2, 2))\n",
    "print (y(3, 2))"
   ]
  },
  {
   "cell_type": "markdown",
   "id": "10b39894",
   "metadata": {},
   "source": [
    "### Why use Lambda Functions?\n",
    "Lambda functions are particularly useful as functions in another function:"
   ]
  },
  {
   "cell_type": "code",
   "execution_count": 4,
   "id": "1c9219ee",
   "metadata": {},
   "outputs": [
    {
     "name": "stdout",
     "output_type": "stream",
     "text": [
      "Defined doubler function given a number for doubling: 4\n",
      "Defined tripler function given a number for tripling: 6\n"
     ]
    }
   ],
   "source": [
    "def func(k):\n",
    "    return lambda x:x*k\n",
    "\n",
    "# Lambda allows for a set function in another function\n",
    "doubler_func = func(2)\n",
    "print (f\"Defined doubler function given a number for doubling: {doubler_func(2)}\")\n",
    "\n",
    "# It can also be used to define a closely related function\n",
    "tripler_func = func(3)\n",
    "print (f\"Defined tripler function given a number for tripling: {tripler_func(2)}\")\n",
    "\n"
   ]
  },
  {
   "cell_type": "markdown",
   "id": "b0967bc7",
   "metadata": {},
   "source": [
    "### Lambda Function in transforms.\n",
    "The use of Lambda functions in transforms is not strictly necessary but allows for a convenient way to modify the transforms for other structurally similar datasets."
   ]
  }
 ],
 "metadata": {
  "kernelspec": {
   "display_name": "Python 3 (ipykernel)",
   "language": "python",
   "name": "python3"
  },
  "language_info": {
   "codemirror_mode": {
    "name": "ipython",
    "version": 3
   },
   "file_extension": ".py",
   "mimetype": "text/x-python",
   "name": "python",
   "nbconvert_exporter": "python",
   "pygments_lexer": "ipython3",
   "version": "3.9.12"
  }
 },
 "nbformat": 4,
 "nbformat_minor": 5
}
